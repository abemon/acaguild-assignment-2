{
 "cells": [
  {
   "cell_type": "code",
   "execution_count": 1,
   "metadata": {},
   "outputs": [
    {
     "name": "stdout",
     "output_type": "stream",
     "text": [
      "please add some numbers1,2,3,4,5,6\n",
      "['1,2,3,4,5,6']\n",
      "('1,2,3,4,5,6',)\n"
     ]
    }
   ],
   "source": [
    "# Problem 1\n",
    "#Generate a programme accept a sequence of comma seperated numbers from console and generate list\n",
    "\n",
    "values = input(\"please add some numbers\")\n",
    "i = values.split(\"'\")\n",
    "t = tuple(i)\n",
    "print(i)\n",
    "print(t)"
   ]
  },
  {
   "cell_type": "code",
   "execution_count": 2,
   "metadata": {},
   "outputs": [
    {
     "name": "stdout",
     "output_type": "stream",
     "text": [
      "\n",
      "*\n",
      "**\n",
      "***\n",
      "****\n",
      "*****\n",
      "****\n",
      "***\n",
      "**\n",
      "*\n"
     ]
    }
   ],
   "source": [
    "# Problem 2\n",
    "#Create a pattern using nested for loop in phython\n",
    "\n",
    "for i in range (0,5):\n",
    "    for j in range (1,i+1):\n",
    "        print(\"*\", end=\"\")\n",
    "    print()    \n",
    "    \n",
    "\n",
    "for i in range (5,0,-1):\n",
    "    for j in range (0,i):\n",
    "        print(\"*\", end=\"\")\n",
    "    print()        "
   ]
  },
  {
   "cell_type": "code",
   "execution_count": 3,
   "metadata": {},
   "outputs": [
    {
     "name": "stdout",
     "output_type": "stream",
     "text": [
      "Input a word to reverse: AcadGild\n",
      "dliGdacA\n",
      "\n"
     ]
    }
   ],
   "source": [
    "#Problem 3\n",
    "# Write a phython programme to reverse a word after accepting the input from user\n",
    "\n",
    "word = input(\"Input a word to reverse: \")\n",
    "\n",
    "for char in range(len(word) - 1, -1, -1):\n",
    "  print(word[char], end=\"\")\n",
    "print(\"\\n\")"
   ]
  },
  {
   "cell_type": "code",
   "execution_count": 5,
   "metadata": {},
   "outputs": [
    {
     "name": "stdout",
     "output_type": "stream",
     "text": [
      "WE THE PEOPLE OF INDIA,\n",
      "\t having solemnly resolved to constitute india into a SOVEREIGN !\n",
      "\t\t SOCIALIST,SECULAR DEMOCRATIC REBULIC ,\n",
      "\t\t\t and to secure to all citizens\n"
     ]
    }
   ],
   "source": [
    "#Problem 4 \n",
    "#Wright a phython program to print the given string in the format specified \n",
    "# We THE PEOPLE OF INDIA,having solemnly resolved to constitute india into a SOVEREIGN,SOCIALIST,SECULAR DEMOCRATIC REBULIC and to secure to all citizens\n",
    "\n",
    "print(\"WE THE PEOPLE OF INDIA,\\n\\t having solemnly resolved to constitute india into a SOVEREIGN !\\n\\t\\t SOCIALIST,SECULAR DEMOCRATIC REBULIC ,\\n\\t\\t\\t and to secure to all citizens\")"
   ]
  },
  {
   "cell_type": "code",
   "execution_count": null,
   "metadata": {},
   "outputs": [],
   "source": []
  }
 ],
 "metadata": {
  "kernelspec": {
   "display_name": "Python 3",
   "language": "python",
   "name": "python3"
  },
  "language_info": {
   "codemirror_mode": {
    "name": "ipython",
    "version": 3
   },
   "file_extension": ".py",
   "mimetype": "text/x-python",
   "name": "python",
   "nbconvert_exporter": "python",
   "pygments_lexer": "ipython3",
   "version": "3.6.4"
  }
 },
 "nbformat": 4,
 "nbformat_minor": 2
}
